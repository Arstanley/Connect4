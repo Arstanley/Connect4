{
 "cells": [
  {
   "cell_type": "markdown",
   "metadata": {},
   "source": [
    "# Play Connect Five"
   ]
  },
  {
   "cell_type": "code",
   "execution_count": 1,
   "metadata": {},
   "outputs": [
    {
     "name": "stdout",
     "output_type": "stream",
     "text": [
      "Intel MKL WARNING: Support of Intel(R) Streaming SIMD Extensions 4.2 (Intel(R) SSE4.2) enabled only processors has been deprecated. Intel oneAPI Math Kernel Library 2025.0 will require Intel(R) Advanced Vector Extensions (Intel(R) AVX) instructions.\n",
      "Intel MKL WARNING: Support of Intel(R) Streaming SIMD Extensions 4.2 (Intel(R) SSE4.2) enabled only processors has been deprecated. Intel oneAPI Math Kernel Library 2025.0 will require Intel(R) Advanced Vector Extensions (Intel(R) AVX) instructions.\n"
     ]
    }
   ],
   "source": [
    "from connect4 import Connect4Board"
   ]
  },
  {
   "cell_type": "markdown",
   "metadata": {},
   "source": [
    "## Game configuration"
   ]
  },
  {
   "cell_type": "code",
   "execution_count": 2,
   "metadata": {},
   "outputs": [],
   "source": [
    "Ngames=5 #Number of games \n",
    "ROWS, COLS = 7, 8\n",
    "CONNECT_NUMBER,CYLINDER=5,True\n",
    "TIMEOUT_SETUP,TIMEOUT_MOVE=1,5 #in seconds"
   ]
  },
  {
   "cell_type": "markdown",
   "metadata": {},
   "source": [
    "#### Select players\n",
    "\n",
    "p1, p2 are the string names of the modules containing the player object.\n",
    "* If you have your own Player class in a file myplayer.py in the working directory, you can simply pass myplayer.\n",
    "* If your player is in a different module, then specify the class name like my_module/player_name\n",
    "* If the player is in a nested module. For example if you'd need to write from players.simple import Dumbo, then specify the player as players.simple/Dumbo."
   ]
  },
  {
   "cell_type": "code",
   "execution_count": 3,
   "metadata": {},
   "outputs": [],
   "source": [
    "p1 = 'SmartRandom'\n",
    "p2 = 'mcts_player/mctsPlayer'\n",
    "#p2 = 'SmartRandom'\n",
    "#p1 = 'dummies/Random'\n",
    "#p2 = 'dummies/LazySmartRandom'  \n",
    "#p1 = 'players.dummies/SmartRandom'"
   ]
  },
  {
   "cell_type": "markdown",
   "metadata": {},
   "source": [
    "## Play!!\n",
    "\n",
    "Player 1 plays with disc=1\\\n",
    "Player 2 plays with disc=-1\\\n",
    "Empty spots are marked with 0\\\n",
    "Final connected discs of Player 1 are marked with 2\\\n",
    "Final connected discs of Player 2 are marked with -2"
   ]
  },
  {
   "cell_type": "code",
   "execution_count": 4,
   "metadata": {
    "scrolled": true
   },
   "outputs": [
    {
     "name": "stdout",
     "output_type": "stream",
     "text": [
      "Playing SmartRandom against mcts_player/mctsPlayer\n",
      "Final Board: \n",
      "[[ 0  0  0  0  0  0  0 -1]\n",
      " [ 0  0  0  0  0  0  0  1]\n",
      " [ 0  0  0  0  0  0  0 -1]\n",
      " [ 0  0  0  0  0  0 -1  1]\n",
      " [ 0  0  0  0 -1  0  1 -1]\n",
      " [ 0  0  1  0  1  0 -1 -1]\n",
      " [ 1  0  1  1  1  0 -1 -1]]\n",
      "Moves: \n",
      "[3, 7, 4, 7, 2, 7, 7, 7, 7, 7, 2, 6, 0, 6, 6, 6, 4, 4]\n",
      "Winner: SmartRandom\n",
      "Reason: Move timeout\n",
      "----------------------------------\n",
      "SmartRandom victories: 1\n",
      "mcts_player/mctsPlayer victories: 0\n",
      "draws: 0\n",
      "----------------------------------\n",
      "Final Board: \n",
      "[[ 0  0  0  0  0  0  0  0]\n",
      " [ 0  0  0  0  0  0  0  0]\n",
      " [ 0  0  0  0  0  0  0  0]\n",
      " [ 0  0  0  0  0  0  0 -1]\n",
      " [ 0  0  0  0  0  0  0  1]\n",
      " [ 0  0  0  0  0  0  0 -1]\n",
      " [ 1  0  0  1  0  0  0 -1]]\n",
      "Moves: \n",
      "[0, 7, 3, 7, 7, 7]\n",
      "Winner: SmartRandom\n",
      "Reason: Move timeout\n",
      "----------------------------------\n",
      "SmartRandom victories: 2\n",
      "mcts_player/mctsPlayer victories: 0\n",
      "draws: 0\n",
      "----------------------------------\n",
      "Final Board: \n",
      "[[ 0  0  0  0  0  0  0  0]\n",
      " [ 0  0  0  0  0  0  0  0]\n",
      " [ 0  0  0  0  0  0  0 -2]\n",
      " [ 0  0  0  0  0  0  0 -2]\n",
      " [ 0  0  0  1  0  0  0 -2]\n",
      " [ 0  0  0  1  0  0  0 -2]\n",
      " [ 1  0  0  1  0  0  1 -2]]\n",
      "Moves: \n",
      "[6, 7, 3, 7, 3, 7, 3, 7, 0, 7]\n",
      "Winner: mcts_player/mctsPlayer\n",
      "Reason: Connect 5!\n",
      "----------------------------------\n",
      "SmartRandom victories: 2\n",
      "mcts_player/mctsPlayer victories: 1\n",
      "draws: 0\n",
      "----------------------------------\n",
      "Final Board: \n",
      "[[ 0  0  0  0  0  0  0  0]\n",
      " [ 0  0  0  0  0  0  0  0]\n",
      " [ 0  0  0  0  0  0  0 -2]\n",
      " [ 0  0  0  0  0  0  0 -2]\n",
      " [ 0  0  0  0  0  0  0 -2]\n",
      " [ 0  0  0  1  0  0  0 -2]\n",
      " [ 1  0  0  1  1  1  0 -2]]\n",
      "Moves: \n",
      "[3, 7, 5, 7, 0, 7, 4, 7, 3, 7]\n",
      "Winner: mcts_player/mctsPlayer\n",
      "Reason: Connect 5!\n",
      "----------------------------------\n",
      "SmartRandom victories: 2\n",
      "mcts_player/mctsPlayer victories: 2\n",
      "draws: 0\n",
      "----------------------------------\n",
      "Final Board: \n",
      "[[ 0  0  0  0  0  0  0  0]\n",
      " [ 0  0  0  0  0  0  0 -2]\n",
      " [ 0  0  0  0  0  0  0 -2]\n",
      " [ 0  0  0  0  0  0  0 -2]\n",
      " [ 0  0  0  0  0  0  0 -2]\n",
      " [ 0  0  0  0  0  0  0 -2]\n",
      " [ 1  0  1  0  1  0  1  1]]\n",
      "Moves: \n",
      "[7, 7, 0, 7, 6, 7, 4, 7, 2, 7]\n",
      "Winner: mcts_player/mctsPlayer\n",
      "Reason: Connect 5!\n",
      "----------------------------------\n",
      "SmartRandom victories: 2\n",
      "mcts_player/mctsPlayer victories: 3\n",
      "draws: 0\n",
      "----------------------------------\n"
     ]
    }
   ],
   "source": [
    "print(f'Playing {p1} against {p2}')  \n",
    "w,d,l=0,0,0\n",
    "for i in range(Ngames):\n",
    "    game = Connect4Board(rows=ROWS, cols=COLS,connect_number=CONNECT_NUMBER,cylinder=CYLINDER,\n",
    "        timeout_move=TIMEOUT_MOVE,timeout_setup=TIMEOUT_SETUP,deterministic=True)\n",
    "    winner, reason, moves = game.play(p1, p2)\n",
    "    if winner==p1:\n",
    "        w+=1\n",
    "    elif winner==p2:\n",
    "        l+=1\n",
    "    else:\n",
    "        d+=1 \n",
    "    print(f'Final Board: \\n{game}')\n",
    "    print(f'Moves: \\n{moves}')\n",
    "\n",
    "    print('Winner: %s' % winner)\n",
    "    print('Reason: %s' % reason)\n",
    "    print('----------------------------------')\n",
    "    print(f'{p1} victories: {w}')\n",
    "    print(f'{p2} victories: {l}')\n",
    "    print(f'draws: {d}' )\n",
    "    print('----------------------------------')"
   ]
  },
  {
   "cell_type": "code",
   "execution_count": null,
   "metadata": {},
   "outputs": [],
   "source": []
  }
 ],
 "metadata": {
  "kernelspec": {
   "display_name": "Python 3 (ipykernel)",
   "language": "python",
   "name": "python3"
  },
  "language_info": {
   "codemirror_mode": {
    "name": "ipython",
    "version": 3
   },
   "file_extension": ".py",
   "mimetype": "text/x-python",
   "name": "python",
   "nbconvert_exporter": "python",
   "pygments_lexer": "ipython3",
   "version": "3.9.18"
  }
 },
 "nbformat": 4,
 "nbformat_minor": 4
}
